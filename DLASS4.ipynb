{
 "cells": [
  {
   "cell_type": "code",
   "execution_count": 25,
   "id": "16e4fdcd",
   "metadata": {},
   "outputs": [],
   "source": [
    "import numpy as np\n",
    "import pandas as pd\n",
    "import matplotlib.pyplot as plt\n",
    "from sklearn.preprocessing import MinMaxScaler\n",
    "from keras.models import Sequential\n",
    "from keras.layers import LSTM, Dense, Dropout\n",
    "\n"
   ]
  },
  {
   "cell_type": "code",
   "execution_count": 26,
   "id": "711be202",
   "metadata": {},
   "outputs": [
    {
     "data": {
      "text/html": [
       "<div>\n",
       "<style scoped>\n",
       "    .dataframe tbody tr th:only-of-type {\n",
       "        vertical-align: middle;\n",
       "    }\n",
       "\n",
       "    .dataframe tbody tr th {\n",
       "        vertical-align: top;\n",
       "    }\n",
       "\n",
       "    .dataframe thead th {\n",
       "        text-align: right;\n",
       "    }\n",
       "</style>\n",
       "<table border=\"1\" class=\"dataframe\">\n",
       "  <thead>\n",
       "    <tr style=\"text-align: right;\">\n",
       "      <th></th>\n",
       "      <th>Date</th>\n",
       "      <th>Open</th>\n",
       "      <th>High</th>\n",
       "      <th>Low</th>\n",
       "      <th>Close</th>\n",
       "      <th>Adj Close</th>\n",
       "      <th>Volume</th>\n",
       "    </tr>\n",
       "  </thead>\n",
       "  <tbody>\n",
       "    <tr>\n",
       "      <th>0</th>\n",
       "      <td>2004-08-19</td>\n",
       "      <td>50.050049</td>\n",
       "      <td>52.082081</td>\n",
       "      <td>48.028027</td>\n",
       "      <td>50.220219</td>\n",
       "      <td>50.220219</td>\n",
       "      <td>44659096</td>\n",
       "    </tr>\n",
       "    <tr>\n",
       "      <th>1</th>\n",
       "      <td>2004-08-20</td>\n",
       "      <td>50.555557</td>\n",
       "      <td>54.594597</td>\n",
       "      <td>50.300301</td>\n",
       "      <td>54.209209</td>\n",
       "      <td>54.209209</td>\n",
       "      <td>22834343</td>\n",
       "    </tr>\n",
       "    <tr>\n",
       "      <th>2</th>\n",
       "      <td>2004-08-23</td>\n",
       "      <td>55.430431</td>\n",
       "      <td>56.796799</td>\n",
       "      <td>54.579578</td>\n",
       "      <td>54.754753</td>\n",
       "      <td>54.754753</td>\n",
       "      <td>18256126</td>\n",
       "    </tr>\n",
       "    <tr>\n",
       "      <th>3</th>\n",
       "      <td>2004-08-24</td>\n",
       "      <td>55.675674</td>\n",
       "      <td>55.855858</td>\n",
       "      <td>51.836838</td>\n",
       "      <td>52.487488</td>\n",
       "      <td>52.487488</td>\n",
       "      <td>15247337</td>\n",
       "    </tr>\n",
       "    <tr>\n",
       "      <th>4</th>\n",
       "      <td>2004-08-25</td>\n",
       "      <td>52.532532</td>\n",
       "      <td>54.054054</td>\n",
       "      <td>51.991993</td>\n",
       "      <td>53.053055</td>\n",
       "      <td>53.053055</td>\n",
       "      <td>9188602</td>\n",
       "    </tr>\n",
       "  </tbody>\n",
       "</table>\n",
       "</div>"
      ],
      "text/plain": [
       "         Date       Open       High        Low      Close  Adj Close    Volume\n",
       "0  2004-08-19  50.050049  52.082081  48.028027  50.220219  50.220219  44659096\n",
       "1  2004-08-20  50.555557  54.594597  50.300301  54.209209  54.209209  22834343\n",
       "2  2004-08-23  55.430431  56.796799  54.579578  54.754753  54.754753  18256126\n",
       "3  2004-08-24  55.675674  55.855858  51.836838  52.487488  52.487488  15247337\n",
       "4  2004-08-25  52.532532  54.054054  51.991993  53.053055  53.053055   9188602"
      ]
     },
     "execution_count": 26,
     "metadata": {},
     "output_type": "execute_result"
    }
   ],
   "source": [
    "# Load the dataset\n",
    "data = pd.read_csv(r\"GOOGL.csv\")\n",
    "data.head()"
   ]
  },
  {
   "cell_type": "code",
   "execution_count": 27,
   "id": "bdd51dbb",
   "metadata": {},
   "outputs": [],
   "source": [
    "# Drop any missing values\n",
    "data = data.dropna()"
   ]
  },
  {
   "cell_type": "code",
   "execution_count": 28,
   "id": "f9a834eb",
   "metadata": {},
   "outputs": [],
   "source": [
    "# Select only the 'Close' prices\n",
    "prices = data['Close'].values.reshape(-1, 1)"
   ]
  },
  {
   "cell_type": "code",
   "execution_count": 29,
   "id": "0c443f15",
   "metadata": {},
   "outputs": [],
   "source": [
    "# Normalize the data using Min-Max scaling\n",
    "scaler = MinMaxScaler(feature_range=(0, 1))\n",
    "prices_scaled = scaler.fit_transform(prices)"
   ]
  },
  {
   "cell_type": "code",
   "execution_count": 30,
   "id": "8a118f15",
   "metadata": {},
   "outputs": [],
   "source": [
    "# Define the sequence length (number of time steps)\n",
    "sequence_length = 60\n",
    "\n",
    "# Function to create sequences of data\n",
    "def create_sequences(data, sequence_length):\n",
    "    X, y = [], []\n",
    "    for i in range(len(data) - sequence_length):\n",
    "        X.append(data[i:(i + sequence_length)])\n",
    "        y.append(data[i + sequence_length])\n",
    "    return np.array(X), np.array(y)\n",
    "\n",
    "# Create sequences of data\n",
    "X, y = create_sequences(prices_scaled, sequence_length)\n",
    "\n"
   ]
  },
  {
   "cell_type": "code",
   "execution_count": 31,
   "id": "abbc4a9f",
   "metadata": {},
   "outputs": [],
   "source": [
    "# Split the data into training and testing sets\n",
    "split = int(0.8 * len(X))\n",
    "X_train, X_test, y_train, y_test = X[:split], X[split:], y[:split], y[split:]"
   ]
  },
  {
   "cell_type": "code",
   "execution_count": 32,
   "id": "73abffe8",
   "metadata": {},
   "outputs": [],
   "source": [
    "# Build the RNN model\n",
    "model = Sequential()\n",
    "model.add(LSTM(units=50, return_sequences=True, input_shape=(X_train.shape[1], 1)))\n",
    "model.add(Dropout(0.2))\n",
    "model.add(LSTM(units=50, return_sequences=True))\n",
    "model.add(Dropout(0.2))\n",
    "model.add(LSTM(units=50))\n",
    "model.add(Dropout(0.2))\n",
    "model.add(Dense(units=1))"
   ]
  },
  {
   "cell_type": "code",
   "execution_count": 33,
   "id": "3876f705",
   "metadata": {},
   "outputs": [],
   "source": [
    "# Compile the model\n",
    "model.compile(optimizer='adam', loss='mean_squared_error')"
   ]
  },
  {
   "cell_type": "code",
   "execution_count": 34,
   "id": "f57100fe",
   "metadata": {},
   "outputs": [
    {
     "name": "stdout",
     "output_type": "stream",
     "text": [
      "Epoch 1/10\n",
      "110/110 [==============================] - 16s 71ms/step - loss: 0.0018\n",
      "Epoch 2/10\n",
      "110/110 [==============================] - 8s 68ms/step - loss: 3.2749e-04\n",
      "Epoch 3/10\n",
      "110/110 [==============================] - 7s 63ms/step - loss: 2.6667e-04\n",
      "Epoch 4/10\n",
      "110/110 [==============================] - 7s 65ms/step - loss: 2.4703e-04\n",
      "Epoch 5/10\n",
      "110/110 [==============================] - 7s 62ms/step - loss: 2.3359e-04\n",
      "Epoch 6/10\n",
      "110/110 [==============================] - 7s 64ms/step - loss: 2.1845e-04\n",
      "Epoch 7/10\n",
      "110/110 [==============================] - 7s 67ms/step - loss: 2.1286e-04\n",
      "Epoch 8/10\n",
      "110/110 [==============================] - 7s 64ms/step - loss: 1.9140e-04\n",
      "Epoch 9/10\n",
      "110/110 [==============================] - 7s 63ms/step - loss: 1.7694e-04\n",
      "Epoch 10/10\n",
      "110/110 [==============================] - 7s 63ms/step - loss: 1.7444e-04\n"
     ]
    },
    {
     "data": {
      "text/plain": [
       "<keras.callbacks.History at 0x7871d42c23e0>"
      ]
     },
     "execution_count": 34,
     "metadata": {},
     "output_type": "execute_result"
    }
   ],
   "source": [
    "# Train the model\n",
    "model.fit(X_train, y_train, epochs=10, batch_size=32)"
   ]
  },
  {
   "cell_type": "code",
   "execution_count": 35,
   "id": "373a0116",
   "metadata": {},
   "outputs": [
    {
     "name": "stdout",
     "output_type": "stream",
     "text": [
      "28/28 [==============================] - 3s 70ms/step - loss: 0.0011\n",
      "Test Loss: 0.0010800869204103947\n"
     ]
    }
   ],
   "source": [
    "# Evaluate the model\n",
    "loss = model.evaluate(X_test, y_test)\n",
    "print('Test Loss:', loss)"
   ]
  },
  {
   "cell_type": "code",
   "execution_count": 36,
   "id": "98bf3597",
   "metadata": {},
   "outputs": [
    {
     "name": "stdout",
     "output_type": "stream",
     "text": [
      "28/28 [==============================] - 2s 23ms/step\n"
     ]
    }
   ],
   "source": [
    "# Make predictions\n",
    "predictions = model.predict(X_test)"
   ]
  },
  {
   "cell_type": "code",
   "execution_count": 37,
   "id": "3d513b29",
   "metadata": {},
   "outputs": [],
   "source": [
    "# Inverse transform the predictions and actual values\n",
    "predictions = scaler.inverse_transform(predictions)\n",
    "actual = scaler.inverse_transform(y_test)"
   ]
  },
  {
   "cell_type": "code",
   "execution_count": 38,
   "id": "e46c1dba",
   "metadata": {},
   "outputs": [
    {
     "data": {
      "image/png": "[encoded data removed]",
      "text/plain": [
       "<Figure size 640x480 with 1 Axes>"
      ]
     },
     "metadata": {},
     "output_type": "display_data"
    }
   ],
   "source": [
    "# Plot the predictions and actual values\n",
    "plt.plot(actual, color='blue', label='Actual Prices')\n",
    "plt.plot(predictions, color='red', label='Predicted Prices')\n",
    "plt.title('Google Stock Prices Prediction')\n",
    "plt.xlabel('Time')\n",
    "plt.ylabel('Price')\n",
    "plt.legend()\n",
    "plt.show()"
   ]
  },
  {
   "cell_type": "code",
   "execution_count": 18,
   "id": "177e36ce",
   "metadata": {},
   "outputs": [
    {
     "name": "stdout",
     "output_type": "stream",
     "text": [
      "Epoch 1/50\n",
      "112/112 [==============================] - 19s 115ms/step - loss: 0.0158\n",
      "Epoch 2/50\n",
      "112/112 [==============================] - 13s 112ms/step - loss: 0.0024\n",
      "Epoch 3/50\n",
      "112/112 [==============================] - 13s 115ms/step - loss: 0.0020\n",
      "Epoch 4/50\n",
      "112/112 [==============================] - 13s 112ms/step - loss: 0.0020\n",
      "Epoch 5/50\n",
      "112/112 [==============================] - 13s 116ms/step - loss: 0.0016\n",
      "Epoch 6/50\n",
      "112/112 [==============================] - 12s 111ms/step - loss: 0.0016\n",
      "Epoch 7/50\n",
      "112/112 [==============================] - 12s 108ms/step - loss: 0.0015\n",
      "Epoch 8/50\n",
      "112/112 [==============================] - 12s 110ms/step - loss: 0.0014\n",
      "Epoch 9/50\n",
      "112/112 [==============================] - 13s 112ms/step - loss: 0.0015\n",
      "Epoch 10/50\n",
      "112/112 [==============================] - 12s 108ms/step - loss: 0.0011\n",
      "Epoch 11/50\n",
      "112/112 [==============================] - 14s 123ms/step - loss: 0.0014\n",
      "Epoch 12/50\n",
      "112/112 [==============================] - 13s 113ms/step - loss: 0.0014\n",
      "Epoch 13/50\n",
      "112/112 [==============================] - 13s 113ms/step - loss: 0.0012\n",
      "Epoch 14/50\n",
      "112/112 [==============================] - 13s 113ms/step - loss: 0.0012\n",
      "Epoch 15/50\n",
      "112/112 [==============================] - 12s 111ms/step - loss: 0.0012\n",
      "Epoch 16/50\n",
      "112/112 [==============================] - 13s 112ms/step - loss: 0.0011\n",
      "Epoch 17/50\n",
      "112/112 [==============================] - 13s 112ms/step - loss: 0.0010\n",
      "Epoch 18/50\n",
      "112/112 [==============================] - 12s 111ms/step - loss: 0.0011\n",
      "Epoch 19/50\n",
      "112/112 [==============================] - 13s 112ms/step - loss: 0.0011\n",
      "Epoch 20/50\n",
      "112/112 [==============================] - 13s 113ms/step - loss: 0.0010\n",
      "Epoch 21/50\n",
      "112/112 [==============================] - 12s 110ms/step - loss: 0.0010\n",
      "Epoch 22/50\n",
      "112/112 [==============================] - 12s 107ms/step - loss: 9.5239e-04\n",
      "Epoch 23/50\n",
      "112/112 [==============================] - 12s 109ms/step - loss: 8.2740e-04\n",
      "Epoch 24/50\n",
      "112/112 [==============================] - 12s 108ms/step - loss: 0.0011\n",
      "Epoch 25/50\n",
      "112/112 [==============================] - 12s 110ms/step - loss: 0.0010\n",
      "Epoch 26/50\n",
      "112/112 [==============================] - 12s 108ms/step - loss: 9.3190e-04\n",
      "Epoch 27/50\n",
      "112/112 [==============================] - 13s 117ms/step - loss: 9.1283e-04\n",
      "Epoch 28/50\n",
      "112/112 [==============================] - 11s 101ms/step - loss: 8.3559e-04\n",
      "Epoch 29/50\n",
      "112/112 [==============================] - 13s 113ms/step - loss: 8.7259e-04\n",
      "Epoch 30/50\n",
      "112/112 [==============================] - 9s 85ms/step - loss: 9.0581e-04\n",
      "Epoch 31/50\n",
      "112/112 [==============================] - 10s 89ms/step - loss: 7.4427e-04\n",
      "Epoch 32/50\n",
      "112/112 [==============================] - 10s 88ms/step - loss: 7.6378e-04\n",
      "Epoch 33/50\n",
      "112/112 [==============================] - 12s 106ms/step - loss: 6.9998e-04\n",
      "Epoch 34/50\n",
      "112/112 [==============================] - 10s 94ms/step - loss: 7.3411e-04\n",
      "Epoch 35/50\n",
      "112/112 [==============================] - 12s 104ms/step - loss: 6.9769e-04\n",
      "Epoch 36/50\n",
      "112/112 [==============================] - 10s 93ms/step - loss: 6.7363e-04\n",
      "Epoch 37/50\n",
      "112/112 [==============================] - 10s 88ms/step - loss: 7.3039e-04\n",
      "Epoch 38/50\n",
      "112/112 [==============================] - 12s 103ms/step - loss: 6.4158e-04\n",
      "Epoch 39/50\n",
      "112/112 [==============================] - 11s 96ms/step - loss: 6.9308e-04\n",
      "Epoch 40/50\n",
      "112/112 [==============================] - 10s 92ms/step - loss: 7.0253e-04\n",
      "Epoch 41/50\n",
      "112/112 [==============================] - 10s 90ms/step - loss: 6.5859e-04\n",
      "Epoch 42/50\n",
      "112/112 [==============================] - 11s 102ms/step - loss: 7.0323e-04\n",
      "Epoch 43/50\n",
      "112/112 [==============================] - 12s 106ms/step - loss: 7.5717e-04\n",
      "Epoch 44/50\n",
      "112/112 [==============================] - 11s 102ms/step - loss: 6.8105e-04\n",
      "Epoch 45/50\n",
      "112/112 [==============================] - 12s 106ms/step - loss: 6.2639e-04\n",
      "Epoch 46/50\n",
      "112/112 [==============================] - 12s 106ms/step - loss: 6.5844e-04\n",
      "Epoch 47/50\n",
      "112/112 [==============================] - 11s 98ms/step - loss: 6.8300e-04\n",
      "Epoch 48/50\n",
      "112/112 [==============================] - 13s 120ms/step - loss: 7.0460e-04\n",
      "Epoch 49/50\n",
      "112/112 [==============================] - 13s 115ms/step - loss: 6.3900e-04\n",
      "Epoch 50/50\n",
      "112/112 [==============================] - 13s 113ms/step - loss: 6.2620e-04\n"
     ]
    },
    {
     "data": {
      "text/plain": [
       "<keras.callbacks.History at 0x7871e67699f0>"
      ]
     },
     "execution_count": 18,
     "metadata": {},
     "output_type": "execute_result"
    }
   ],
   "source": []
  },
  {
   "cell_type": "code",
   "execution_count": 19,
   "id": "c5b65b78",
   "metadata": {},
   "outputs": [
    {
     "data": {
      "text/html": [
       "<div>\n",
       "<style scoped>\n",
       "    .dataframe tbody tr th:only-of-type {\n",
       "        vertical-align: middle;\n",
       "    }\n",
       "\n",
       "    .dataframe tbody tr th {\n",
       "        vertical-align: top;\n",
       "    }\n",
       "\n",
       "    .dataframe thead th {\n",
       "        text-align: right;\n",
       "    }\n",
       "</style>\n",
       "<table border=\"1\" class=\"dataframe\">\n",
       "  <thead>\n",
       "    <tr style=\"text-align: right;\">\n",
       "      <th></th>\n",
       "      <th>Date</th>\n",
       "      <th>Open</th>\n",
       "      <th>High</th>\n",
       "      <th>Low</th>\n",
       "      <th>Close</th>\n",
       "      <th>Adj Close</th>\n",
       "      <th>Volume</th>\n",
       "    </tr>\n",
       "  </thead>\n",
       "  <tbody>\n",
       "    <tr>\n",
       "      <th>3617</th>\n",
       "      <td>2019-01-02</td>\n",
       "      <td>1027.199951</td>\n",
       "      <td>1060.790039</td>\n",
       "      <td>1025.280029</td>\n",
       "      <td>1054.680054</td>\n",
       "      <td>1054.680054</td>\n",
       "      <td>1593400</td>\n",
       "    </tr>\n",
       "    <tr>\n",
       "      <th>3618</th>\n",
       "      <td>2019-01-03</td>\n",
       "      <td>1050.670044</td>\n",
       "      <td>1066.260010</td>\n",
       "      <td>1022.369995</td>\n",
       "      <td>1025.469971</td>\n",
       "      <td>1025.469971</td>\n",
       "      <td>2098000</td>\n",
       "    </tr>\n",
       "    <tr>\n",
       "      <th>3619</th>\n",
       "      <td>2019-01-04</td>\n",
       "      <td>1042.560059</td>\n",
       "      <td>1080.000000</td>\n",
       "      <td>1036.859985</td>\n",
       "      <td>1078.069946</td>\n",
       "      <td>1078.069946</td>\n",
       "      <td>2301100</td>\n",
       "    </tr>\n",
       "    <tr>\n",
       "      <th>3620</th>\n",
       "      <td>2019-01-07</td>\n",
       "      <td>1080.969971</td>\n",
       "      <td>1082.699951</td>\n",
       "      <td>1062.640015</td>\n",
       "      <td>1075.920044</td>\n",
       "      <td>1075.920044</td>\n",
       "      <td>2372300</td>\n",
       "    </tr>\n",
       "    <tr>\n",
       "      <th>3621</th>\n",
       "      <td>2019-01-08</td>\n",
       "      <td>1086.000000</td>\n",
       "      <td>1093.349976</td>\n",
       "      <td>1068.349976</td>\n",
       "      <td>1085.369995</td>\n",
       "      <td>1085.369995</td>\n",
       "      <td>1770700</td>\n",
       "    </tr>\n",
       "  </tbody>\n",
       "</table>\n",
       "</div>"
      ],
      "text/plain": [
       "            Date         Open         High          Low        Close   \n",
       "3617  2019-01-02  1027.199951  1060.790039  1025.280029  1054.680054  \\\n",
       "3618  2019-01-03  1050.670044  1066.260010  1022.369995  1025.469971   \n",
       "3619  2019-01-04  1042.560059  1080.000000  1036.859985  1078.069946   \n",
       "3620  2019-01-07  1080.969971  1082.699951  1062.640015  1075.920044   \n",
       "3621  2019-01-08  1086.000000  1093.349976  1068.349976  1085.369995   \n",
       "\n",
       "        Adj Close   Volume  \n",
       "3617  1054.680054  1593400  \n",
       "3618  1025.469971  2098000  \n",
       "3619  1078.069946  2301100  \n",
       "3620  1075.920044  2372300  \n",
       "3621  1085.369995  1770700  "
      ]
     },
     "execution_count": 19,
     "metadata": {},
     "output_type": "execute_result"
    }
   ],
   "source": [
    "data_test.head()"
   ]
  },
  {
   "cell_type": "code",
   "execution_count": 24,
   "id": "b83c9e1a",
   "metadata": {},
   "outputs": [
    {
     "ename": "NameError",
     "evalue": "name 'model' is not defined",
     "output_type": "error",
     "traceback": [
      "\u001b[0;31m---------------------------------------------------------------------------\u001b[0m",
      "\u001b[0;31mNameError\u001b[0m                                 Traceback (most recent call last)",
      "Cell \u001b[0;32mIn[24], line 2\u001b[0m\n\u001b[1;32m      1\u001b[0m \u001b[38;5;66;03m# Evaluate the model\u001b[39;00m\n\u001b[0;32m----> 2\u001b[0m loss \u001b[38;5;241m=\u001b[39m \u001b[43mmodel\u001b[49m\u001b[38;5;241m.\u001b[39mevaluate(X_test, y_test)\n\u001b[1;32m      3\u001b[0m \u001b[38;5;28mprint\u001b[39m(\u001b[38;5;124m'\u001b[39m\u001b[38;5;124mTest Loss:\u001b[39m\u001b[38;5;124m'\u001b[39m, loss)\n",
      "\u001b[0;31mNameError\u001b[0m: name 'model' is not defined"
     ]
    }
   ],
   "source": []
  },
  {
   "cell_type": "code",
   "execution_count": 22,
   "id": "bc2b6b9f",
   "metadata": {},
   "outputs": [
    {
     "ename": "NameError",
     "evalue": "name 'past_60_days' is not defined",
     "output_type": "error",
     "traceback": [
      "\u001b[0;31m---------------------------------------------------------------------------\u001b[0m",
      "\u001b[0;31mNameError\u001b[0m                                 Traceback (most recent call last)",
      "Cell \u001b[0;32mIn[22], line 1\u001b[0m\n\u001b[0;32m----> 1\u001b[0m df \u001b[38;5;241m=\u001b[39m \u001b[43mpast_60_days\u001b[49m\u001b[38;5;241m.\u001b[39mappend(data_test, ignore_index \u001b[38;5;241m=\u001b[39m \u001b[38;5;28;01mTrue\u001b[39;00m)\n\u001b[1;32m      2\u001b[0m df \u001b[38;5;241m=\u001b[39m df\u001b[38;5;241m.\u001b[39mdrop([\u001b[38;5;124m'\u001b[39m\u001b[38;5;124mDate\u001b[39m\u001b[38;5;124m'\u001b[39m, \u001b[38;5;124m'\u001b[39m\u001b[38;5;124mAdj Close\u001b[39m\u001b[38;5;124m'\u001b[39m], axis \u001b[38;5;241m=\u001b[39m \u001b[38;5;241m1\u001b[39m)\n\u001b[1;32m      3\u001b[0m df\u001b[38;5;241m.\u001b[39mhead()\n",
      "\u001b[0;31mNameError\u001b[0m: name 'past_60_days' is not defined"
     ]
    }
   ],
   "source": []
  },
  {
   "cell_type": "code",
   "execution_count": null,
   "id": "e5971b1e",
   "metadata": {},
   "outputs": [],
   "source": []
  }
 ],
 "metadata": {
  "kernelspec": {
   "display_name": "Python 3 (ipykernel)",
   "language": "python",
   "name": "python3"
  },
  "language_info": {
   "codemirror_mode": {
    "name": "ipython",
    "version": 3
   },
   "file_extension": ".py",
   "mimetype": "text/x-python",
   "name": "python",
   "nbconvert_exporter": "python",
   "pygments_lexer": "ipython3",
   "version": "3.10.12"
  }
 },
 "nbformat": 4,
 "nbformat_minor": 5
}
